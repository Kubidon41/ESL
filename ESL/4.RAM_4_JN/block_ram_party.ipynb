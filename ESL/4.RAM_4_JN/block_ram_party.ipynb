{
 "cells": [
  {
   "cell_type": "code",
   "execution_count": 11,
   "metadata": {
    "pycharm": {
     "is_executing": false
    }
   },
   "outputs": [
    {
     "data": {
      "text/html": "<style>\n@import url('http://fonts.googleapis.com/css?family=Source+Code+Pro');\n@import url('http://fonts.googleapis.com/css?family=Lora');\n\n//@import url('http://fonts.googleapis.com/css?family=Open+Sans');\n//@import url('http://fonts.googleapis.com/css?family=Vollkorn');\n//@import url('http://fonts.googleapis.com/css?family=Karla');\n//@import url('http://fonts.googleapis.com/css?family=Poppins');\n//@import url('http://fonts.googleapis.com/css?family=Arimo');\n//@import url('http://fonts.googleapis.com/css?family=Roboto');\n//@import url('http://fonts.googleapis.com/css?family=Lato');\n//@import url('http://fonts.googleapis.com/css?family=Domine');\n//@import url('http://fonts.googleapis.com/css?family=Chivo');\n//@import url('http://fonts.googleapis.com/css?family=Cardo');\n//@import url('http://fonts.googleapis.com/css?family=Arvo');\n//@import url('http://fonts.googleapis.com/css?family=Crimson+Text');\n//@import url('http://fonts.googleapis.com/css?family=Ubuntu');\n//@import url('http://fonts.googleapis.com/css?family=Fontin');\n//@import url('http://fonts.googleapis.com/css?family=Raleway');\n//@import url('http://fonts.googleapis.com/css?family=Merriweather');\n\n\n.CodeMirror pre {\n    font-family: 'Source Code Pro', Consolas, monocco, monospace;\n}\n    div.cell{\n        //width: 950px;\n        margin-left: 0% !important;\n        margin-right: auto;\n    }\n    div.text_cell_render{\n        font-family: 'Lora';\n        //font-family: 'Open Sans';\n        //font-family: 'Karla',verdana,arial,sans-serif;\n        //font-family: 'Roboto',verdana,arial,sans-serif;\n        //font-family: 'Lato',verdana,arial,sans-serif;\n        //font-family: 'Domine',verdana,arial,sans-serif;\n        //font-family: 'Chivo',verdana,arial,sans-serif;\n        //font-family: 'Cardo',verdana,arial,sans-serif;\n        //font-family: 'Arvo',verdana,arial,sans-serif;\n        //font-family: 'Poppins',verdana,arial,sans-serif;\n        //font-family: 'Ubuntu',verdana,arial,sans-serif;\n        //font-family: 'Fontin',verdana,arial,sans-serif;\n        //font-family: 'Raleway',verdana,arial,sans-serif;\n        //font-family: 'Merriweather',verdana,arial,sans-serif;\n        //font-family: 'Crimson Text', verdana,arial,sans-serif;\n        //font-family: verdana,arial,sans-serif;\n        //font-family: arial,sans-serif;\n        line-height: 125%;\n        font-size: 130%;\n        text-align: justify;\n        text-justify:inter-word;\n    }\n    div.text_cell code {\n        background: transparent;\n        color: #000000;\n        font-weight: 400;\n        font-size: 12pt;\n        //font-style: bold;\n        font-family:  'Source Code Pro', Consolas, monocco, monospace;\n   }\n    h1 {\n        font-family: 'Open sans',verdana,arial,sans-serif;\n\t}\n\n    div.input_area {\n        background: #F6F6F9;\n        border: 1px solid #586e75;\n    }\n\n    .text_cell_render h1 {\n        font-weight: 400;\n        font-size: 30pt;\n        line-height: 100%;\n        color:#c76c0c;\n        margin-bottom: 0.5em;\n        margin-top: 1em;\n        display: block;\n        white-space: wrap;\n        text-align: left;\n    }\n    h2 {\n        font-family: 'Open sans',verdana,arial,sans-serif;\n        text-align: left;\n    }\n    .text_cell_render h2 {\n        font-weight: 500;\n        font-size: 16pt;\n        font-style: italic;\n        line-height: 100%;\n        color:#c76c0c;\n        margin-bottom: 0.5em;\n        margin-top: 1.5em;\n        display: block;\n        white-space: wrap;\n        text-align: left;\n    }\n    h3 {\n        font-family: 'Open sans',verdana,arial,sans-serif;\n    }\n    .text_cell_render h3 {\n        font-weight: 500;\n        font-size: 14pt;\n        line-height: 100%;\n        color:#d77c0c;\n        margin-bottom: 0.5em;\n        margin-top: 2em;\n        display: block;\n        white-space: wrap;\n        text-align: left;\n    }\n    h4 {\n        font-family: 'Open sans',verdana,arial,sans-serif;\n    }\n    .text_cell_render h4 {\n        font-weight: 100;\n        font-size: 14pt;\n        color:#d77c0c;\n        margin-bottom: 0.5em;\n        margin-top: 0.5em;\n        display: block;\n        white-space: nowrap;\n    }\n    h5 {\n        font-family: 'Open sans',verdana,arial,sans-serif;\n    }\n\n    .text_cell_render h5 {\n        font-weight: 200;\n        font-style: normal;\n        color: #1d3b84;\n        font-size: 16pt;\n        margin-bottom: 0em;\n        margin-top: 0.5em;\n        display: block;\n        white-space: nowrap;\n    }\n    div.output_subarea.output_text.output_pyout {\n        overflow-x: auto;\n        overflow-y: scroll;\n        max-height: 50000px;\n    }\n    div.output_subarea.output_stream.output_stdout.output_text {\n        overflow-x: auto;\n        overflow-y: scroll;\n        max-height: 50000px;\n    }\n    div.output_wrapper{\n        margin-top:0.2em;\n        margin-bottom:0.2em;\n}\n\n    .rendered_html table {\n        font-size: 100%;\n    }\n\n    code{\n        font-size: 6pt;\n\n    }\n    .rendered_html code{\n    background-color: transparent;\n    }\n    ul{\n        margin: 2em;\n    }\n    ul li{\n        padding-left: 0.5em;\n        margin-bottom: 0.5em;\n        margin-top: 0.5em;\n    }\n    ul li li{\n        padding-left: 0.2em;\n        margin-bottom: 0.2em;\n        margin-top: 0.2em;\n    }\n    ol{\n        margin: 2em;\n    }\n    ol li{\n        padding-left: 0.5em;\n        margin-bottom: 0.5em;\n        margin-top: 0.5em;\n    }\n    ul li{\n        padding-left: 0.5em;\n        margin-bottom: 0.5em;\n        margin-top: 0.2em;\n    }\n    a:link{\n       color:#447adb;\n    }\n    a:visited{\n       color: #1d3b84;\n    }\n    a:hover{\n       color: #1d3b84;\n    }\n    a:focus{\n       color:#447adb;\n    }\n    a:active{\n       font-weight: bold;\n       color:#447adb;\n    }\n    .rendered_html :link {\n       text-decoration: underline;\n    }\n    .rendered_html :hover {\n       text-decoration: none;\n    }\n    .rendered_html :visited {\n      text-decoration: none;\n    }\n    .rendered_html :focus {\n      text-decoration: none;\n    }\n    .rendered_html :active {\n      text-decoration: none;\n    }\n    .warning{\n        color: rgb( 240, 20, 20 )\n    }\n    hr {\n      color: #f3f3f3;\n      background-color: #f3f3f3;\n      height: 1px;\n    }\n    blockquote{\n      display:block;\n      background: #fcfcfc;\n      border-left: 5px solid #c76c0c;\n      font-family: 'Open sans',verdana,arial,sans-serif;\n      width:680px;\n      padding: 10px 10px 10px 10px;\n      text-align:justify;\n      text-justify:inter-word;\n      }\n      blockquote p {\n        margin-bottom: 0;\n        line-height: 125%;\n        font-size: 100%;\n      }\n</style>\n<script>\n    MathJax.Hub.Config({\n                        TeX: {\n                           extensions: [\"AMSmath.js\"],\n                           equationNumbers: { autoNumber: \"AMS\", useLabelIds: true}\n                           },\n                tex2jax: {\n                    inlineMath: [ ['$','$'], [\"\\\\(\",\"\\\\)\"] ],\n                    displayMath: [ ['$$','$$'], [\"\\\\[\",\"\\\\]\"] ]\n                },\n                displayAlign: 'center', // Change this to 'center' to center equations.\n                \"HTML-CSS\": {\n                    scale:95,\n                        availableFonts: [],\n                        preferredFont:null,\n                        webFont: \"TeX\",\n                    styles: {'.MathJax_Display': {\"margin\": 4}}\n                }\n        });\n</script>\n",
      "text/plain": "<IPython.core.display.HTML object>"
     },
     "metadata": {},
     "output_type": "execute_result",
     "execution_count": 11
    }
   ],
   "source": [
    "from IPython.core.display import HTML\n",
    "HTML(open('../css/custom.css', 'r').read())"
   ]
  },
  {
   "cell_type": "code",
   "execution_count": 12,
   "outputs": [],
   "source": [
    "def print_stats(yosys_log):\n",
    "    stat_start_line = yosys_log.grep(r'^2\\.27\\. ')\n",
    "    stat_end_line = yosys_log.grep(r'^2\\.28\\. ')\n",
    "    start_index = yosys_log.index(stat_start_line[0])\n",
    "    end_index = yosys_log.index(stat_end_line[0])\n",
    "    print('\\n'.join(yosys_log[start_index+2:end_index-1]))\n"
   ],
   "metadata": {
    "collapsed": false,
    "pycharm": {
     "name": "#%%\n",
     "is_executing": false
    }
   }
  },
  {
   "cell_type": "code",
   "execution_count": 13,
   "outputs": [],
   "source": [
    "from pygmyhdl import *\n",
    "\n",
    "@chunk\n",
    "def ram(clk_i, en_i, wr_i, addr_i, data_i, data_o):\n",
    "    # Create an array of words to act as RAM locations for storing data.\n",
    "    # The number of bits in each word is set by the width of the data input bus.\n",
    "    # The number of words is determined by the width of the address bus so,\n",
    "    # for example, a 4-bit address would create 2**4 = 16 RAM locations.\n",
    "    mem = [Bus(len(data_i)) for _ in range(2**len(addr_i))]\n",
    "    \n",
    "    # Perform read/write operations on the rising edge of the clock.\n",
    "    @seq_logic(clk_i.posedge)\n",
    "    def logic():\n",
    "        if en_i:\n",
    "            # The read/write operations only get executed if the enable input is high.\n",
    "            if wr_i:\n",
    "                # If the write-control is high, write the value on the input data bus\n",
    "                # into the array of words at the given address value.\n",
    "                mem[addr_i.val].next = data_i\n",
    "            else:\n",
    "                # If the write-control is low, read data from the word at the\n",
    "                # given address value and send it to the output data bus.\n",
    "                data_o.next = mem[addr_i.val]\n"
   ],
   "metadata": {
    "collapsed": false,
    "pycharm": {
     "name": "#%%\n",
     "is_executing": false
    }
   }
  },
  {
   "cell_type": "code",
   "execution_count": 14,
   "metadata": {
    "pycharm": {
     "is_executing": false
    }
   },
   "outputs": [],
   "source": [
    "@chunk\n",
    "def simpler_ram(clk_i,wr_i, addr_i, data_i, data_o):\n",
    "\n",
    "    mem = [Bus(len(data_i)) for _ in range(2**len(addr_i))]\n",
    "    \n",
    "    @seq_logic(clk_i.posedge)\n",
    "    def logic():\n",
    "        if wr_i:\n",
    "            mem[addr_i.val].next = data_i\n",
    "        data_o.next = mem[addr_i.val]  # RAM address is always read out!\n"
   ]
  },
  {
   "cell_type": "code",
   "execution_count": 15,
   "metadata": {
    "collapsed": true,
    "pycharm": {
     "is_executing": false
    }
   },
   "outputs": [],
   "source": [
    "@chunk\n",
    "def dualport_ram(clk_i, wr_i, wr_addr_i, rd_addr_i, data_i, data_o):\n",
    "    \n",
    "    mem = [Bus(len(data_i)) for _ in range(2**len(wr_addr_i))]\n",
    "    \n",
    "    @seq_logic(clk_i.posedge)\n",
    "    def logic():\n",
    "        if wr_i:\n",
    "            mem[wr_addr_i.val].next = data_i\n",
    "        data_o.next = mem[rd_addr_i.val]  # Read from a different location than write."
   ]
  },
  {
   "cell_type": "code",
   "execution_count": 18,
   "metadata": {
    "collapsed": true,
    "pycharm": {
     "is_executing": false
    }
   },
   "outputs": [],
   "source": [
    "@chunk\n",
    "def gen_reset(clk_i, reset_o):\n",
    "\n",
    "\n",
    "    cntr = Bus(1)  # Reset counter.\n",
    "    \n",
    "    @seq_logic(clk_i.posedge)\n",
    "    def logic():\n",
    "        if cntr < 1:\n",
    "            # Generate a reset while the counter is less than some threshold\n",
    "            # and increment the counter.\n",
    "            cntr.next = cntr.next + 1\n",
    "            reset_o.next = 1\n",
    "        else:\n",
    "            # Release the reset once the counter passes the threshold and\n",
    "            # stop incrementing the counter.\n",
    "            reset_o.next = 0\n",
    "\n",
    "@chunk\n",
    "def sample_en(clk_i, do_sample_o, frq_in=12e6, frq_sample=100):\n",
    "    # Compute the width of the counter and when it should roll-over based\n",
    "    # on the master clock frequency and the desired sampling frequency.\n",
    "    from math import ceil, log2\n",
    "    rollover = int(ceil(frq_in / frq_sample)) - 1\n",
    "    cntr = Bus(int(ceil(log2(frq_in/frq_sample))))\n",
    "    \n",
    "    # Sequential logic for generating the sampling pulse.\n",
    "    @seq_logic(clk_i.posedge)\n",
    "    def counter():\n",
    "        cntr.next = cntr + 1         # Increment the counter.\n",
    "        do_sample_o.next = 0         # Clear the sampling pulse output except...\n",
    "        if cntr == rollover:\n",
    "            do_sample_o.next = 1     # ...when the counter rolls over.\n",
    "            cntr.next = 0 \n",
    "\n",
    "@chunk\n",
    "def record_play(clk_i, button_a, button_b, leds_o):\n",
    "    \n",
    "    # Instantiate the reset generator.\n",
    "    reset = Wire()\n",
    "    gen_reset(clk_i, reset)\n",
    "    \n",
    "    # Instantiate the sampling pulse generator.\n",
    "    do_sample = Wire()\n",
    "    sample_en(clk_i, do_sample)\n",
    "    \n",
    "    # Instantiate a RAM for holding the samples.\n",
    "    wr = Wire()\n",
    "    addr = Bus(11)\n",
    "    end_addr = Bus(len(addr)) # Holds the last address of the recorded samples.\n",
    "    data_i = Bus(1)\n",
    "    data_o = Bus(1)\n",
    "    simpler_ram(clk_i, wr, addr, data_i, data_o)\n",
    "    \n",
    "    # States of the record/playback controller.\n",
    "    state = Bus(3)         # Holds the current state of the controller.\n",
    "    INIT = 0               # Initialize. The reset pulse sends us here.\n",
    "    WAITING_TO_RECORD = 1  # Getting read to record samples.\n",
    "    RECORDING = 2          # Actually storing samples in RAM.\n",
    "    WAITING_TO_PLAY = 3    # Getting ready to play back samples.\n",
    "    PLAYING = 4            # Actually playing back samples.\n",
    "\n",
    "    # Sequential logic for the record/playback controller.\n",
    "    @seq_logic(clk_i.posedge)\n",
    "    def fsm():\n",
    "        \n",
    "        wr.next = 0        # Keep the RAM write-control off by default.\n",
    "        \n",
    "        if reset:  # Initialize the controller using the pulse from the reset generator.\n",
    "            state.next = INIT  # Go to the INIT state after the reset is released.\n",
    "            \n",
    "        elif do_sample:  # Process a sample whenever the sampling pulse arrives.\n",
    "        \n",
    "            if state == INIT:  # Initialize the controller.\n",
    "                leds_o.next = 0b10101  # Light LEDs to indicate the INIT state.\n",
    "                if button_a == 1:\n",
    "                    # Get ready to start recording when button A is pressed.\n",
    "                    state.next = WAITING_TO_RECORD  # Go to record setup state.\n",
    "                    \n",
    "            elif state == WAITING_TO_RECORD:  # Setup for recording.\n",
    "                leds_o.next = 0b11010  # Light LEDs to indicate this state.\n",
    "                if button_a == 0:\n",
    "                    # Start recording once button A is released.\n",
    "                    addr.next = 0           # Start recording from beginning of RAM.\n",
    "                    data_i.next = button_b  # Record the state of button B.\n",
    "                    wr.next = 1             # Write button B state to RAM.\n",
    "                    state.next = RECORDING  # Go to recording state.\n",
    "                    \n",
    "            elif state == RECORDING:  # Record samples of button B to RAM.\n",
    "                addr.next = addr + 1    # Next location for storing sample.\n",
    "                data_i.next = button_b  # Sample state of button B.\n",
    "                wr.next = 1             # Write button B state to RAM.\n",
    "                # For feedback to the user, display the state of button B on the LEDs.\n",
    "                leds_o.next = concat(1,button_b, button_b, button_b, button_b)\n",
    "                if button_a == 1:\n",
    "                    # If button A pressed, then get ready to play back the stored samples.\n",
    "                    end_addr.next = addr+1  # Store the last sample address.\n",
    "                    state.next = WAITING_TO_PLAY  # Go to playback setup state.\n",
    "                    \n",
    "            elif state == WAITING_TO_PLAY:  # Setup for playback.\n",
    "                leds_o.next = 0b10000  # Light LEDs to indicate this state.\n",
    "                if button_a == 0:\n",
    "                    # Start playback once button A is released.\n",
    "                    addr.next = 0         # Start playback from beginning of RAM.\n",
    "                    state.next = PLAYING  # Go to playback state.\n",
    "                    \n",
    "            elif state == PLAYING:  # Show recorded state of button B on the LEDs.\n",
    "                leds_o.next = concat(1,data_o[0],data_o[0],data_o[0],data_o[0])\n",
    "                addr.next = addr + 1  # Advance to the next sample.\n",
    "                if addr == end_addr:\n",
    "                    # Loop back to the start of RAM if this is the last sample.\n",
    "                    addr.next = 0\n",
    "                if button_a == 1:\n",
    "                    # Record a new sample if button A is pressed.\n",
    "                    state.next = WAITING_TO_RECORD\n",
    "\n"
   ]
  },
  {
   "cell_type": "code",
   "execution_count": 19,
   "metadata": {
    "pycharm": {
     "name": "#%%\n",
     "is_executing": false
    }
   },
   "outputs": [
    {
     "name": "stderr",
     "text": [
      "c:\\users\\kuban\\anaconda3\\envs\\pygmyhdl\\lib\\site-packages\\ipykernel_launcher.py:1: UserWarning: \n    toVerilog(): Deprecated usage: See http://dev.myhdl.org/meps/mep-114.html\n  \"\"\"Entry point for launching an IPython kernel.\n",
      "c:\\users\\kuban\\anaconda3\\envs\\pygmyhdl\\lib\\site-packages\\ipykernel_launcher.py:2: UserWarning: \n    toVHDL(): Deprecated usage: See http://dev.myhdl.org/meps/mep-114.html\n  \n"
     ],
     "output_type": "stream"
    },
    {
     "data": {
      "text/plain": "[[<myhdl._always_seq._AlwaysSeq at 0x23b3e2fe908>],\n [<myhdl._always_seq._AlwaysSeq at 0x23b3e2fe208>],\n <myhdl._always_seq._AlwaysSeq at 0x23b3e55e6d8>,\n [<myhdl._always_seq._AlwaysSeq at 0x23b3e55e198>]]"
     },
     "metadata": {},
     "output_type": "execute_result",
     "execution_count": 19
    }
   ],
   "source": [
    "toVerilog(record_play, clk_i=Wire(), button_a=Wire(), button_b=Wire(), leds_o=Bus(5))\n",
    "toVHDL(record_play, clk_i=Wire(), button_a=Wire(), button_b=Wire(), leds_o=Bus(5))"
   ]
  }
 ],
 "metadata": {
  "kernelspec": {
   "display_name": "Python 3",
   "language": "python",
   "name": "python3"
  },
  "language_info": {
   "codemirror_mode": {
    "name": "ipython",
    "version": 3
   },
   "file_extension": ".py",
   "mimetype": "text/x-python",
   "name": "python",
   "nbconvert_exporter": "python",
   "pygments_lexer": "ipython3",
   "version": "3.5.4"
  },
  "pycharm": {
   "stem_cell": {
    "cell_type": "raw",
    "source": [],
    "metadata": {
     "collapsed": false
    }
   }
  }
 },
 "nbformat": 4,
 "nbformat_minor": 2
}
